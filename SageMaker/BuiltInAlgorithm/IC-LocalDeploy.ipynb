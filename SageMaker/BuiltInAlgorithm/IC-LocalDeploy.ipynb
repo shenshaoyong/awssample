{
 "cells": [
  {
   "cell_type": "markdown",
   "metadata": {},
   "source": [
    "# End-to-End Multiclass Image Classification Example\n",
    "1. [Introduction](#Introduction)\n",
    "2. [Prerequisites and Preprocessing](#Prequisites-and-Preprocessing)\n",
    "  1. [Permissions and environment variables](#Permissions-and-environment-variables)\n",
    "  2. [Prepare the data](#Prepare-the-data)\n",
    "3. [Training the model](#Training-the-model)\n",
    "  1. [Training parameters](#Training-parameters)\n",
    "  2. [Start the training](#Start-the-training)\n",
    "4. [Compile](#Compile)\n",
    "5. [Inference](#Inference)"
   ]
  },
  {
   "cell_type": "markdown",
   "metadata": {},
   "source": [
    "## Introduction\n",
    "\n",
    "Welcome to our end-to-end example of distributed image classification algorithm. In this demo, we will use the Amazon sagemaker image classification algorithm to train on the [caltech-256 dataset](http://www.vision.caltech.edu/Image_Datasets/Caltech256/). \n",
    "\n",
    "To get started, we need to set up the environment with a few prerequisite steps, for permissions, configurations, and so on."
   ]
  },
  {
   "cell_type": "markdown",
   "metadata": {},
   "source": [
    "## Prequisites and Preprocessing\n",
    "\n",
    "### Permissions and environment variables\n",
    "\n",
    "Here we set up the linkage and authentication to AWS services. There are three parts to this:\n",
    "\n",
    "* The roles used to give learning and hosting access to your data. This will automatically be obtained from the role used to start the notebook\n",
    "* The S3 bucket that you want to use for training and model data\n",
    "* The Amazon sagemaker image classification docker image which need not be changed"
   ]
  },
  {
   "cell_type": "code",
   "execution_count": 2,
   "metadata": {},
   "outputs": [],
   "source": [
    "import sagemaker\n",
    "from sagemaker import get_execution_role\n",
    "\n",
    "role = get_execution_role()\n",
    "\n",
    "sess = sagemaker.Session()\n",
    "bucket = sess.default_bucket()\n",
    "prefix = \"ic-fulltraining\""
   ]
  },
  {
   "cell_type": "code",
   "execution_count": 3,
   "metadata": {},
   "outputs": [
    {
     "name": "stderr",
     "output_type": "stream",
     "text": [
      "Defaulting to the only supported framework/algorithm version: 1. Ignoring framework/algorithm version: latest.\n"
     ]
    },
    {
     "name": "stdout",
     "output_type": "stream",
     "text": [
      "811284229777.dkr.ecr.us-east-1.amazonaws.com/image-classification:1\n"
     ]
    }
   ],
   "source": [
    "from sagemaker import image_uris\n",
    "\n",
    "training_image = image_uris.retrieve(\n",
    "    region=sess.boto_region_name, framework=\"image-classification\", version=\"latest\"\n",
    ")\n",
    "print(training_image)"
   ]
  },
  {
   "cell_type": "markdown",
   "metadata": {},
   "source": [
    "### Data preparation\n",
    "Download the data and transfer to S3 for use in training. In this demo, we are using [Caltech-256](http://www.vision.caltech.edu/Image_Datasets/Caltech256/) dataset, which contains 30608 images of 256 objects. For the training and validation data, we follow the splitting scheme in this MXNet [example](https://github.com/apache/incubator-mxnet/blob/master/example/image-classification/data/caltech256.sh). In particular, it randomly selects 60 images per class for training, and uses the remaining data for validation. The algorithm takes `RecordIO` file as input. The user can also provide the image files as input, which will be converted into `RecordIO` format using MXNet's [im2rec](https://mxnet.incubator.apache.org/how_to/recordio.html?highlight=im2rec) tool. It takes around 50 seconds to converted the entire Caltech-256 dataset (~1.2GB) on a p2.xlarge instance. However, for this demo, we will use record io format. "
   ]
  },
  {
   "cell_type": "code",
   "execution_count": 4,
   "metadata": {},
   "outputs": [],
   "source": [
    "import os\n",
    "import urllib.request\n",
    "import boto3\n",
    "\n",
    "\n",
    "def download(url):\n",
    "    filename = url.split(\"/\")[-1]\n",
    "    if not os.path.exists(filename):\n",
    "        urllib.request.urlretrieve(url, filename)\n",
    "\n",
    "\n",
    "def upload_to_s3(channel, file):\n",
    "    s3 = boto3.resource(\"s3\")\n",
    "    data = open(file, \"rb\")\n",
    "    key = channel + \"/\" + file\n",
    "    s3.Bucket(bucket).put_object(Key=key, Body=data)\n",
    "\n",
    "\n",
    "# caltech-256\n",
    "download(\"http://data.mxnet.io/data/caltech-256/caltech-256-60-train.rec\")\n",
    "download(\"http://data.mxnet.io/data/caltech-256/caltech-256-60-val.rec\")"
   ]
  },
  {
   "cell_type": "code",
   "execution_count": 5,
   "metadata": {},
   "outputs": [],
   "source": [
    "# Four channels: train, validation, train_lst, and validation_lst\n",
    "s3train = \"s3://{}/{}/train/\".format(bucket, prefix)\n",
    "s3validation = \"s3://{}/{}/validation/\".format(bucket, prefix)\n",
    "\n",
    "# upload the lst files to train and validation channels\n",
    "!aws s3 cp caltech-256-60-train.rec $s3train --quiet\n",
    "!aws s3 cp caltech-256-60-val.rec $s3validation --quiet"
   ]
  },
  {
   "cell_type": "markdown",
   "metadata": {},
   "source": [
    "\n",
    "\n",
    "Once we have the data available in the correct format for training, the next step is to actually train the model using the data. After setting training parameters, we kick off training, and poll for status until training is completed.\n"
   ]
  },
  {
   "cell_type": "markdown",
   "metadata": {},
   "source": [
    "## Training the model\n",
    "\n",
    "Now that we are done with all the setup that is needed, we are ready to train our object detector. To begin, let us create a ``sageMaker.estimator.Estimator`` object. This estimator will launch the training job.\n",
    "### Training parameters\n",
    "There are two kinds of parameters that need to be set for training. The first one are the parameters for the training job. These include:\n",
    "\n",
    "* **Training instance count**: This is the number of instances on which to run the training. When the number of instances is greater than one, then the image classification algorithm will run in distributed settings. \n",
    "* **Training instance type**: This indicates the type of machine on which to run the training. Typically, we use GPU instances for these training \n",
    "* **Output path**: This the s3 folder in which the training output is stored\n"
   ]
  },
  {
   "cell_type": "code",
   "execution_count": 6,
   "metadata": {},
   "outputs": [],
   "source": [
    "s3_output_location = \"s3://{}/{}/output\".format(bucket, prefix)\n",
    "ic = sagemaker.estimator.Estimator(\n",
    "    training_image,\n",
    "    role,\n",
    "    instance_count=1,\n",
    "    instance_type=\"ml.p2.xlarge\",\n",
    "    volume_size=50,\n",
    "    max_run=360000,\n",
    "    input_mode=\"File\",\n",
    "    output_path=s3_output_location,\n",
    "    sagemaker_session=sess,\n",
    ")"
   ]
  },
  {
   "cell_type": "markdown",
   "metadata": {},
   "source": [
    "Apart from the above set of parameters, there are hyperparameters that are specific to the algorithm. These are:\n",
    "\n",
    "* **num_layers**: The number of layers (depth) for the network. We use 18 in this samples but other values such as 50, 152 can be used.\n",
    "* **image_shape**: The input image dimensions,'num_channels, height, width', for the network. It should be no larger than the actual image size. The number of channels should be same as the actual image.\n",
    "* **num_classes**: This is the number of output classes for the new dataset. Imagenet was trained with 1000 output classes but the number of output classes can be changed for fine-tuning. For caltech, we use 257 because it has 256 object categories + 1 clutter class.\n",
    "* **num_training_samples**: This is the total number of training samples. It is set to 15240 for caltech dataset with the current split.\n",
    "* **mini_batch_size**: The number of training samples used for each mini batch. In distributed training, the number of training samples used per batch will be N * mini_batch_size where N is the number of hosts on which training is run.\n",
    "* **epochs**: Number of training epochs.\n",
    "* **learning_rate**: Learning rate for training.\n",
    "* **top_k**: Report the top-k accuracy during training.\n",
    "* **precision_dtype**: Training datatype precision (default: float32). If set to 'float16', the training will be done in mixed_precision mode and will be faster than float32 mode\n"
   ]
  },
  {
   "cell_type": "code",
   "execution_count": 7,
   "metadata": {},
   "outputs": [],
   "source": [
    "ic.set_hyperparameters(\n",
    "    num_layers=18,\n",
    "    image_shape=\"3,224,224\",\n",
    "    num_classes=257,\n",
    "    num_training_samples=15420,\n",
    "    mini_batch_size=128,\n",
    "    epochs=5,\n",
    "    learning_rate=0.01,\n",
    "    top_k=2,\n",
    "    precision_dtype=\"float32\",\n",
    ")"
   ]
  },
  {
   "cell_type": "markdown",
   "metadata": {},
   "source": [
    "## Input data specification\n",
    "Set the data type and channels used for training"
   ]
  },
  {
   "cell_type": "code",
   "execution_count": 8,
   "metadata": {},
   "outputs": [],
   "source": [
    "train_data = sagemaker.inputs.TrainingInput(\n",
    "    s3train,\n",
    "    distribution=\"FullyReplicated\",\n",
    "    content_type=\"application/x-recordio\",\n",
    "    s3_data_type=\"S3Prefix\",\n",
    ")\n",
    "validation_data = sagemaker.inputs.TrainingInput(\n",
    "    s3validation,\n",
    "    distribution=\"FullyReplicated\",\n",
    "    content_type=\"application/x-recordio\",\n",
    "    s3_data_type=\"S3Prefix\",\n",
    ")\n",
    "\n",
    "data_channels = {\"train\": train_data, \"validation\": validation_data}"
   ]
  },
  {
   "cell_type": "markdown",
   "metadata": {},
   "source": [
    "## Start the training\n",
    "Start training by calling the fit method in the estimator"
   ]
  },
  {
   "cell_type": "code",
   "execution_count": 9,
   "metadata": {
    "scrolled": true
   },
   "outputs": [
    {
     "name": "stdout",
     "output_type": "stream",
     "text": [
      "2022-04-12 15:48:52 Starting - Starting the training job...\n",
      "2022-04-12 15:49:19 Starting - Preparing the instances for trainingProfilerReport-1649778532: InProgress\n",
      ".........\n",
      "2022-04-12 15:50:46 Downloading - Downloading input data......\n",
      "2022-04-12 15:51:42 Training - Downloading the training image.........\n",
      "2022-04-12 15:53:18 Training - Training image download completed. Training in progress..\u001b[34mDocker entrypoint called with argument(s): train\u001b[0m\n",
      "\u001b[34m[04/12/2022 15:53:25 INFO 140142291134272] Reading default configuration from /opt/amazon/lib/python3.7/site-packages/image_classification/default-input.json: {'use_pretrained_model': 0, 'num_layers': 152, 'epochs': 30, 'learning_rate': 0.1, 'lr_scheduler_factor': 0.1, 'optimizer': 'sgd', 'momentum': 0, 'weight_decay': 0.0001, 'beta_1': 0.9, 'beta_2': 0.999, 'eps': 1e-08, 'gamma': 0.9, 'mini_batch_size': 32, 'image_shape': '3,224,224', 'precision_dtype': 'float32'}\u001b[0m\n",
      "\u001b[34m[04/12/2022 15:53:25 INFO 140142291134272] Merging with provided configuration from /opt/ml/input/config/hyperparameters.json: {'epochs': '5', 'image_shape': '3,224,224', 'learning_rate': '0.01', 'mini_batch_size': '128', 'num_classes': '257', 'num_layers': '18', 'num_training_samples': '15420', 'precision_dtype': 'float32', 'top_k': '2'}\u001b[0m\n",
      "\u001b[34m[04/12/2022 15:53:25 INFO 140142291134272] Final configuration: {'use_pretrained_model': 0, 'num_layers': '18', 'epochs': '5', 'learning_rate': '0.01', 'lr_scheduler_factor': 0.1, 'optimizer': 'sgd', 'momentum': 0, 'weight_decay': 0.0001, 'beta_1': 0.9, 'beta_2': 0.999, 'eps': 1e-08, 'gamma': 0.9, 'mini_batch_size': '128', 'image_shape': '3,224,224', 'precision_dtype': 'float32', 'num_classes': '257', 'num_training_samples': '15420', 'top_k': '2'}\u001b[0m\n",
      "\u001b[34m[04/12/2022 15:53:25 INFO 140142291134272] Searching for .rec files in /opt/ml/input/data/train.\u001b[0m\n",
      "\u001b[34m[04/12/2022 15:53:25 INFO 140142291134272] Searching for .rec files in /opt/ml/input/data/validation.\u001b[0m\n",
      "\u001b[34m[04/12/2022 15:53:25 INFO 140142291134272] use_pretrained_model: 0\u001b[0m\n",
      "\u001b[34m[04/12/2022 15:53:25 INFO 140142291134272] multi_label: 0\u001b[0m\n",
      "\u001b[34m[04/12/2022 15:53:25 INFO 140142291134272] Performing random weight initialization\u001b[0m\n",
      "\u001b[34m[04/12/2022 15:53:25 INFO 140142291134272] ---- Parameters ----\u001b[0m\n",
      "\u001b[34m[04/12/2022 15:53:25 INFO 140142291134272] num_layers: 18\u001b[0m\n",
      "\u001b[34m[04/12/2022 15:53:25 INFO 140142291134272] data type: <class 'numpy.float32'>\u001b[0m\n",
      "\u001b[34m[04/12/2022 15:53:25 INFO 140142291134272] epochs: 5\u001b[0m\n",
      "\u001b[34m[04/12/2022 15:53:25 INFO 140142291134272] optimizer: sgd\u001b[0m\n",
      "\u001b[34m[04/12/2022 15:53:25 INFO 140142291134272] momentum: 0.9\u001b[0m\n",
      "\u001b[34m[04/12/2022 15:53:25 INFO 140142291134272] weight_decay: 0.0001\u001b[0m\n",
      "\u001b[34m[04/12/2022 15:53:25 INFO 140142291134272] learning_rate: 0.01\u001b[0m\n",
      "\u001b[34m[04/12/2022 15:53:25 INFO 140142291134272] num_training_samples: 15420\u001b[0m\n",
      "\u001b[34m[04/12/2022 15:53:25 INFO 140142291134272] mini_batch_size: 128\u001b[0m\n",
      "\u001b[34m[04/12/2022 15:53:25 INFO 140142291134272] image_shape: 3,224,224\u001b[0m\n",
      "\u001b[34m[04/12/2022 15:53:25 INFO 140142291134272] num_classes: 257\u001b[0m\n",
      "\u001b[34m[04/12/2022 15:53:25 INFO 140142291134272] augmentation_type: None\u001b[0m\n",
      "\u001b[34m[04/12/2022 15:53:25 INFO 140142291134272] kv_store: device\u001b[0m\n",
      "\u001b[34m[04/12/2022 15:53:25 INFO 140142291134272] top_k: 2\u001b[0m\n",
      "\u001b[34m[04/12/2022 15:53:25 INFO 140142291134272] checkpoint_frequency not set, will store the best model\u001b[0m\n",
      "\u001b[34m[04/12/2022 15:53:25 INFO 140142291134272] --------------------\u001b[0m\n",
      "\u001b[34m[04/12/2022 15:53:25 INFO 140142291134272] Setting number of threads: 3\u001b[0m\n",
      "\u001b[34m[15:53:38] /opt/brazil-pkg-cache/packages/AIAlgorithmsMXNet/AIAlgorithmsMXNet-1.3.x_ecl_Cuda_10.1.x.11282.0/AL2_x86_64/generic-flavor/src/src/operator/nn/./cudnn/./cudnn_algoreg-inl.h:97: Running performance tests to find the best convolution algorithm, this can take a while... (setting env variable MXNET_CUDNN_AUTOTUNE_DEFAULT to 0 to disable)\u001b[0m\n",
      "\u001b[34m[04/12/2022 15:54:00 INFO 140142291134272] Epoch[0] Batch [20]#011Speed: 116.011 samples/sec#011accuracy=0.004464#011top_k_accuracy_2=0.010417\u001b[0m\n",
      "\u001b[34m[04/12/2022 15:54:15 INFO 140142291134272] Epoch[0] Batch [40]#011Speed: 135.981 samples/sec#011accuracy=0.008765#011top_k_accuracy_2=0.016959\u001b[0m\n",
      "\u001b[34m[04/12/2022 15:54:31 INFO 140142291134272] Epoch[0] Batch [60]#011Speed: 144.107 samples/sec#011accuracy=0.013704#011top_k_accuracy_2=0.024334\u001b[0m\n",
      "\u001b[34m[04/12/2022 15:54:47 INFO 140142291134272] Epoch[0] Batch [80]#011Speed: 148.517 samples/sec#011accuracy=0.016300#011top_k_accuracy_2=0.029321\u001b[0m\n",
      "\u001b[34m[04/12/2022 15:55:02 INFO 140142291134272] Epoch[0] Batch [100]#011Speed: 151.316 samples/sec#011accuracy=0.021426#011top_k_accuracy_2=0.035272\u001b[0m\n",
      "\u001b[34m[04/12/2022 15:55:17 INFO 140142291134272] Epoch[0] Train-accuracy=0.024870\u001b[0m\n",
      "\u001b[34m[04/12/2022 15:55:17 INFO 140142291134272] Epoch[0] Train-top_k_accuracy_2=0.041081\u001b[0m\n",
      "\u001b[34m[04/12/2022 15:55:17 INFO 140142291134272] Epoch[0] Time cost=99.443\u001b[0m\n",
      "\u001b[34m[04/12/2022 15:55:50 INFO 140142291134272] Epoch[0] Validation-accuracy=0.059940\u001b[0m\n",
      "\u001b[34m[04/12/2022 15:55:50 INFO 140142291134272] Storing the best model with validation accuracy: 0.059940\u001b[0m\n",
      "\u001b[34m[04/12/2022 15:55:50 INFO 140142291134272] Saved checkpoint to \"/opt/ml/model/image-classification-0001.params\"\u001b[0m\n",
      "\u001b[34m[04/12/2022 15:56:06 INFO 140142291134272] Epoch[1] Batch [20]#011Speed: 160.635 samples/sec#011accuracy=0.052827#011top_k_accuracy_2=0.080729\u001b[0m\n",
      "\u001b[34m[04/12/2022 15:56:22 INFO 140142291134272] Epoch[1] Batch [40]#011Speed: 162.210 samples/sec#011accuracy=0.057927#011top_k_accuracy_2=0.087081\u001b[0m\n",
      "\u001b[34m[04/12/2022 15:56:37 INFO 140142291134272] Epoch[1] Batch [60]#011Speed: 162.695 samples/sec#011accuracy=0.060323#011top_k_accuracy_2=0.089908\u001b[0m\n",
      "\u001b[34m[04/12/2022 15:56:53 INFO 140142291134272] Epoch[1] Batch [80]#011Speed: 162.934 samples/sec#011accuracy=0.063754#011top_k_accuracy_2=0.096836\u001b[0m\n",
      "\u001b[34m[04/12/2022 15:57:09 INFO 140142291134272] Epoch[1] Batch [100]#011Speed: 163.018 samples/sec#011accuracy=0.065130#011top_k_accuracy_2=0.101176\u001b[0m\n",
      "\u001b[34m[04/12/2022 15:57:24 INFO 140142291134272] Epoch[1] Train-accuracy=0.069336\u001b[0m\n",
      "\u001b[34m[04/12/2022 15:57:24 INFO 140142291134272] Epoch[1] Train-top_k_accuracy_2=0.105924\u001b[0m\n",
      "\u001b[34m[04/12/2022 15:57:24 INFO 140142291134272] Epoch[1] Time cost=93.356\u001b[0m\n",
      "\u001b[34m[04/12/2022 15:57:55 INFO 140142291134272] Epoch[1] Validation-accuracy=0.119551\u001b[0m\n",
      "\u001b[34m[04/12/2022 15:57:56 INFO 140142291134272] Storing the best model with validation accuracy: 0.119551\u001b[0m\n",
      "\u001b[34m[04/12/2022 15:57:56 INFO 140142291134272] Saved checkpoint to \"/opt/ml/model/image-classification-0002.params\"\u001b[0m\n",
      "\u001b[34m[04/12/2022 15:58:12 INFO 140142291134272] Epoch[2] Batch [20]#011Speed: 160.876 samples/sec#011accuracy=0.087798#011top_k_accuracy_2=0.133557\u001b[0m\n",
      "\u001b[34m[04/12/2022 15:58:27 INFO 140142291134272] Epoch[2] Batch [40]#011Speed: 162.229 samples/sec#011accuracy=0.093559#011top_k_accuracy_2=0.139863\u001b[0m\n",
      "\u001b[34m[04/12/2022 15:58:43 INFO 140142291134272] Epoch[2] Batch [60]#011Speed: 162.651 samples/sec#011accuracy=0.095031#011top_k_accuracy_2=0.142674\u001b[0m\n",
      "\u001b[34m[04/12/2022 15:58:59 INFO 140142291134272] Epoch[2] Batch [80]#011Speed: 162.891 samples/sec#011accuracy=0.100598#011top_k_accuracy_2=0.152006\u001b[0m\n",
      "\u001b[34m[04/12/2022 15:59:14 INFO 140142291134272] Epoch[2] Batch [100]#011Speed: 162.976 samples/sec#011accuracy=0.103110#011top_k_accuracy_2=0.155167\u001b[0m\n",
      "\u001b[34m[04/12/2022 15:59:29 INFO 140142291134272] Epoch[2] Train-accuracy=0.105599\u001b[0m\n",
      "\u001b[34m[04/12/2022 15:59:29 INFO 140142291134272] Epoch[2] Train-top_k_accuracy_2=0.158398\u001b[0m\n",
      "\u001b[34m[04/12/2022 15:59:29 INFO 140142291134272] Epoch[2] Time cost=93.391\u001b[0m\n",
      "\u001b[34m[04/12/2022 16:00:01 INFO 140142291134272] Epoch[2] Validation-accuracy=0.163996\u001b[0m\n",
      "\u001b[34m[04/12/2022 16:00:01 INFO 140142291134272] Storing the best model with validation accuracy: 0.163996\u001b[0m\n",
      "\u001b[34m[04/12/2022 16:00:02 INFO 140142291134272] Saved checkpoint to \"/opt/ml/model/image-classification-0003.params\"\u001b[0m\n",
      "\u001b[34m[04/12/2022 16:00:18 INFO 140142291134272] Epoch[3] Batch [20]#011Speed: 160.857 samples/sec#011accuracy=0.120164#011top_k_accuracy_2=0.178943\u001b[0m\n",
      "\u001b[34m[04/12/2022 16:00:33 INFO 140142291134272] Epoch[3] Batch [40]#011Speed: 162.083 samples/sec#011accuracy=0.121189#011top_k_accuracy_2=0.182165\u001b[0m\n",
      "\u001b[34m[04/12/2022 16:00:49 INFO 140142291134272] Epoch[3] Batch [60]#011Speed: 162.647 samples/sec#011accuracy=0.126537#011top_k_accuracy_2=0.188140\u001b[0m\n",
      "\u001b[34m[04/12/2022 16:01:05 INFO 140142291134272] Epoch[3] Batch [80]#011Speed: 162.533 samples/sec#011accuracy=0.131944#011top_k_accuracy_2=0.194541\u001b[0m\n",
      "\u001b[34m[04/12/2022 16:01:20 INFO 140142291134272] Epoch[3] Batch [100]#011Speed: 162.729 samples/sec#011accuracy=0.134901#011top_k_accuracy_2=0.197401\u001b[0m\n",
      "\u001b[34m[04/12/2022 16:01:35 INFO 140142291134272] Epoch[3] Train-accuracy=0.137630\u001b[0m\n",
      "\u001b[34m[04/12/2022 16:01:35 INFO 140142291134272] Epoch[3] Train-top_k_accuracy_2=0.201042\u001b[0m\n",
      "\u001b[34m[04/12/2022 16:01:35 INFO 140142291134272] Epoch[3] Time cost=93.518\u001b[0m\n",
      "\u001b[34m[04/12/2022 16:02:07 INFO 140142291134272] Epoch[3] Validation-accuracy=0.181197\u001b[0m\n",
      "\u001b[34m[04/12/2022 16:02:07 INFO 140142291134272] Storing the best model with validation accuracy: 0.181197\u001b[0m\n",
      "\u001b[34m[04/12/2022 16:02:08 INFO 140142291134272] Saved checkpoint to \"/opt/ml/model/image-classification-0004.params\"\u001b[0m\n",
      "\u001b[34m[04/12/2022 16:02:24 INFO 140142291134272] Epoch[4] Batch [20]#011Speed: 161.091 samples/sec#011accuracy=0.148810#011top_k_accuracy_2=0.222842\u001b[0m\n",
      "\u001b[34m[04/12/2022 16:02:39 INFO 140142291134272] Epoch[4] Batch [40]#011Speed: 162.334 samples/sec#011accuracy=0.150152#011top_k_accuracy_2=0.221799\u001b[0m\n",
      "\u001b[34m[04/12/2022 16:02:55 INFO 140142291134272] Epoch[4] Batch [60]#011Speed: 162.739 samples/sec#011accuracy=0.155225#011top_k_accuracy_2=0.225922\u001b[0m\n",
      "\u001b[34m[04/12/2022 16:03:11 INFO 140142291134272] Epoch[4] Batch [80]#011Speed: 162.904 samples/sec#011accuracy=0.162712#011top_k_accuracy_2=0.234086\u001b[0m\n",
      "\u001b[34m[04/12/2022 16:03:26 INFO 140142291134272] Epoch[4] Batch [100]#011Speed: 163.024 samples/sec#011accuracy=0.165223#011top_k_accuracy_2=0.237082\u001b[0m\n",
      "\u001b[34m[04/12/2022 16:03:41 INFO 140142291134272] Epoch[4] Train-accuracy=0.167643\u001b[0m\n",
      "\u001b[34m[04/12/2022 16:03:41 INFO 140142291134272] Epoch[4] Train-top_k_accuracy_2=0.240951\u001b[0m\n",
      "\u001b[34m[04/12/2022 16:03:41 INFO 140142291134272] Epoch[4] Time cost=93.382\u001b[0m\n",
      "\u001b[34m[04/12/2022 16:04:15 INFO 140142291134272] Epoch[4] Validation-accuracy=0.190783\u001b[0m\n",
      "\u001b[34m[04/12/2022 16:04:15 INFO 140142291134272] Storing the best model with validation accuracy: 0.190783\u001b[0m\n",
      "\u001b[34m[04/12/2022 16:04:15 INFO 140142291134272] Saved checkpoint to \"/opt/ml/model/image-classification-0005.params\"\u001b[0m\n",
      "\n",
      "2022-04-12 16:05:21 Uploading - Uploading generated training model\n",
      "2022-04-12 16:05:40 Completed - Training job completed\n",
      "ProfilerReport-1649778532: IssuesFound\n",
      "Training seconds: 891\n",
      "Billable seconds: 891\n"
     ]
    }
   ],
   "source": [
    "ic.fit(inputs=data_channels, logs=True)"
   ]
  },
  {
   "cell_type": "markdown",
   "metadata": {},
   "source": [
    "# Local Deploy"
   ]
  },
  {
   "cell_type": "code",
   "execution_count": 86,
   "metadata": {},
   "outputs": [
    {
     "data": {
      "text/plain": [
       "'s3://sagemaker-us-east-1-432088571089/ic-fulltraining/output/image-classification-2022-04-12-15-48-52-687/output/model.tar.gz'"
      ]
     },
     "execution_count": 86,
     "metadata": {},
     "output_type": "execute_result"
    }
   ],
   "source": [
    "ic.model_data"
   ]
  },
  {
   "cell_type": "code",
   "execution_count": 87,
   "metadata": {},
   "outputs": [
    {
     "name": "stdout",
     "output_type": "stream",
     "text": [
      "download: s3://sagemaker-us-east-1-432088571089/ic-fulltraining/output/image-classification-2022-04-12-15-48-52-687/output/model.tar.gz to ./model.tar.gz\n"
     ]
    }
   ],
   "source": [
    "!aws s3 cp {ic.model_data} ./model.tar.gz"
   ]
  },
  {
   "cell_type": "code",
   "execution_count": 88,
   "metadata": {},
   "outputs": [],
   "source": [
    "!mkdir -p ic_model\n",
    "!cp -f ./model.tar.gz ./ic_model\n",
    "\n"
   ]
  },
  {
   "cell_type": "code",
   "execution_count": 89,
   "metadata": {},
   "outputs": [
    {
     "name": "stdout",
     "output_type": "stream",
     "text": [
      "image-classification-symbol.json\n",
      "image-classification-0005.params\n",
      "model-shapes.json\n"
     ]
    }
   ],
   "source": [
    "!tar -zxvf ./ic_model/model.tar.gz -C ./ic_model"
   ]
  },
  {
   "cell_type": "code",
   "execution_count": 90,
   "metadata": {},
   "outputs": [
    {
     "name": "stdout",
     "output_type": "stream",
     "text": [
      "/opt/conda/lib/python3.7/site-packages/secretstorage/dhcrypto.py:16: CryptographyDeprecationWarning: int_from_bytes is deprecated, use int.from_bytes instead\n",
      "  from cryptography.utils import int_from_bytes\n",
      "/opt/conda/lib/python3.7/site-packages/secretstorage/util.py:25: CryptographyDeprecationWarning: int_from_bytes is deprecated, use int.from_bytes instead\n",
      "  from cryptography.utils import int_from_bytes\n",
      "Requirement already satisfied: mxnet in /opt/conda/lib/python3.7/site-packages (1.9.0)\n",
      "Requirement already satisfied: requests<3,>=2.20.0 in /opt/conda/lib/python3.7/site-packages (from mxnet) (2.26.0)\n",
      "Requirement already satisfied: graphviz<0.9.0,>=0.8.1 in /opt/conda/lib/python3.7/site-packages (from mxnet) (0.8.4)\n",
      "Requirement already satisfied: numpy<2.0.0,>1.16.0 in /opt/conda/lib/python3.7/site-packages (from mxnet) (1.20.3)\n",
      "Requirement already satisfied: certifi>=2017.4.17 in /opt/conda/lib/python3.7/site-packages (from requests<3,>=2.20.0->mxnet) (2021.10.8)\n",
      "Requirement already satisfied: charset-normalizer~=2.0.0 in /opt/conda/lib/python3.7/site-packages (from requests<3,>=2.20.0->mxnet) (2.0.4)\n",
      "Requirement already satisfied: idna<4,>=2.5 in /opt/conda/lib/python3.7/site-packages (from requests<3,>=2.20.0->mxnet) (2.8)\n",
      "Requirement already satisfied: urllib3<1.27,>=1.21.1 in /opt/conda/lib/python3.7/site-packages (from requests<3,>=2.20.0->mxnet) (1.26.7)\n",
      "\u001b[33mWARNING: Running pip as the 'root' user can result in broken permissions and conflicting behaviour with the system package manager. It is recommended to use a virtual environment instead: https://pip.pypa.io/warnings/venv\u001b[0m\n",
      "\u001b[33mWARNING: You are using pip version 21.3.1; however, version 22.0.4 is available.\n",
      "You should consider upgrading via the '/opt/conda/bin/python -m pip install --upgrade pip' command.\u001b[0m\n"
     ]
    }
   ],
   "source": [
    "!pip install mxnet"
   ]
  },
  {
   "cell_type": "code",
   "execution_count": 91,
   "metadata": {},
   "outputs": [
    {
     "name": "stdout",
     "output_type": "stream",
     "text": [
      "/opt/conda/lib/python3.7/site-packages/secretstorage/dhcrypto.py:16: CryptographyDeprecationWarning: int_from_bytes is deprecated, use int.from_bytes instead\n",
      "  from cryptography.utils import int_from_bytes\n",
      "/opt/conda/lib/python3.7/site-packages/secretstorage/util.py:25: CryptographyDeprecationWarning: int_from_bytes is deprecated, use int.from_bytes instead\n",
      "  from cryptography.utils import int_from_bytes\n",
      "Requirement already satisfied: opencv-python-headless in /opt/conda/lib/python3.7/site-packages (4.5.5.64)\n",
      "Requirement already satisfied: numpy>=1.14.5 in /opt/conda/lib/python3.7/site-packages (from opencv-python-headless) (1.20.3)\n",
      "\u001b[33mWARNING: Running pip as the 'root' user can result in broken permissions and conflicting behaviour with the system package manager. It is recommended to use a virtual environment instead: https://pip.pypa.io/warnings/venv\u001b[0m\n",
      "\u001b[33mWARNING: You are using pip version 21.3.1; however, version 22.0.4 is available.\n",
      "You should consider upgrading via the '/opt/conda/bin/python -m pip install --upgrade pip' command.\u001b[0m\n"
     ]
    }
   ],
   "source": [
    "#!pip install opencv-python\n",
    "!pip install opencv-python-headless"
   ]
  },
  {
   "cell_type": "code",
   "execution_count": 95,
   "metadata": {},
   "outputs": [],
   "source": [
    "import mxnet as mx\n",
    "import matplotlib.pyplot as plt\n",
    "import cv2\n",
    "import numpy as np\n",
    "from mxnet.io import DataBatch\n",
    "\n",
    "def get_image(url, show=False):\n",
    "    # download and show the image\n",
    "    fname = mx.test_utils.download(url)\n",
    "    img = cv2.cvtColor(cv2.imread(fname), cv2.COLOR_BGR2RGB)\n",
    "    if img is None:\n",
    "         return None\n",
    "    if show:\n",
    "         plt.imshow(img)\n",
    "         plt.axis('off')\n",
    "    # convert into format (batch, RGB, width, height)\n",
    "    img = cv2.resize(img, (64, 64))\n",
    "    img = np.swapaxes(img, 0, 2)\n",
    "    img = np.swapaxes(img, 1, 2)\n",
    "    img = img[np.newaxis, :]\n",
    "    return img\n",
    "\n",
    "def predict(url, labels):\n",
    "    img = get_image(url, show=True)\n",
    "    # compute the predict probabilities\n",
    "    lenet_model.forward(DataBatch([mx.nd.array(img)]))\n",
    "    prob = lenet_model.get_outputs()[0].asnumpy()\n",
    "\n",
    "    # print the top-5\n",
    "    prob = np.squeeze(prob)\n",
    "    a = np.argsort(prob)[::-1]\n",
    "\n",
    "    for i in a[0:5]:\n",
    "       print('probability=%f, class=%s' %(prob[i], labels[i]))"
   ]
  },
  {
   "cell_type": "code",
   "execution_count": 96,
   "metadata": {},
   "outputs": [],
   "source": [
    "lenet_model = mx.mod.Module.load('ic_model/image-classification',5)\n",
    "image_l = 224\n",
    "image_w = 224\n",
    "lenet_model.bind(for_training=False, data_shapes=[('data',(1,3,image_l,image_w))],label_shapes=lenet_model._label_shapes)\n"
   ]
  },
  {
   "cell_type": "markdown",
   "metadata": {},
   "source": [
    "### Download test image"
   ]
  },
  {
   "cell_type": "code",
   "execution_count": 97,
   "metadata": {},
   "outputs": [
    {
     "name": "stdout",
     "output_type": "stream",
     "text": [
      "--2022-04-13 03:35:23--  http://sagemaker-sample-files.s3.amazonaws.com/datasets/image/caltech-256/256_ObjectCategories/008.bathtub/008_0007.jpg\n",
      "Resolving sagemaker-sample-files.s3.amazonaws.com (sagemaker-sample-files.s3.amazonaws.com)... 52.216.138.243\n",
      "Connecting to sagemaker-sample-files.s3.amazonaws.com (sagemaker-sample-files.s3.amazonaws.com)|52.216.138.243|:80... connected.\n",
      "HTTP request sent, awaiting response... 200 OK\n",
      "Length: 23750 (23K) [image/jpeg]\n",
      "Saving to: ‘test.jpg’\n",
      "\n",
      "test.jpg            100%[===================>]  23.19K  --.-KB/s    in 0.001s  \n",
      "\n",
      "2022-04-13 03:35:23 (16.8 MB/s) - ‘test.jpg’ saved [23750/23750]\n",
      "\n"
     ]
    },
    {
     "data": {
      "image/jpeg": "[encoded data removed]",
      "text/plain": [
       "<IPython.core.display.Image object>"
      ]
     },
     "execution_count": 97,
     "metadata": {},
     "output_type": "execute_result"
    }
   ],
   "source": [
    "!wget -O test.jpg http://sagemaker-sample-files.s3.amazonaws.com/datasets/image/caltech-256/256_ObjectCategories/008.bathtub/008_0007.jpg\n",
    "file_name = \"test.jpg\"\n",
    "# test image\n",
    "from IPython.display import Image\n",
    "\n",
    "Image(file_name)"
   ]
  },
  {
   "cell_type": "markdown",
   "metadata": {},
   "source": [
    "### Evaluation\n",
    "\n",
    "Evaluate the image through the network for inteference. The network outputs class probabilities and typically, one selects the class with the maximum probability as the final class output.\n",
    "\n",
    "**Note:** The output class detected by the network may not be accurate in this example. To limit the time taken and cost of training, we have trained the model only for 5 epochs. If the network is trained for more epochs (say 20), then the output class will be more accurate."
   ]
  },
  {
   "cell_type": "code",
   "execution_count": 98,
   "metadata": {},
   "outputs": [],
   "source": [
    "object_categories = [\n",
    "    \"ak47\",\n",
    "    \"american-flag\",\n",
    "    \"backpack\",\n",
    "    \"baseball-bat\",\n",
    "    \"baseball-glove\",\n",
    "    \"basketball-hoop\",\n",
    "    \"bat\",\n",
    "    \"bathtub\",\n",
    "    \"bear\",\n",
    "    \"beer-mug\",\n",
    "    \"billiards\",\n",
    "    \"binoculars\",\n",
    "    \"birdbath\",\n",
    "    \"blimp\",\n",
    "    \"bonsai-101\",\n",
    "    \"boom-box\",\n",
    "    \"bowling-ball\",\n",
    "    \"bowling-pin\",\n",
    "    \"boxing-glove\",\n",
    "    \"brain-101\",\n",
    "    \"breadmaker\",\n",
    "    \"buddha-101\",\n",
    "    \"bulldozer\",\n",
    "    \"butterfly\",\n",
    "    \"cactus\",\n",
    "    \"cake\",\n",
    "    \"calculator\",\n",
    "    \"camel\",\n",
    "    \"cannon\",\n",
    "    \"canoe\",\n",
    "    \"car-tire\",\n",
    "    \"cartman\",\n",
    "    \"cd\",\n",
    "    \"centipede\",\n",
    "    \"cereal-box\",\n",
    "    \"chandelier-101\",\n",
    "    \"chess-board\",\n",
    "    \"chimp\",\n",
    "    \"chopsticks\",\n",
    "    \"cockroach\",\n",
    "    \"coffee-mug\",\n",
    "    \"coffin\",\n",
    "    \"coin\",\n",
    "    \"comet\",\n",
    "    \"computer-keyboard\",\n",
    "    \"computer-monitor\",\n",
    "    \"computer-mouse\",\n",
    "    \"conch\",\n",
    "    \"cormorant\",\n",
    "    \"covered-wagon\",\n",
    "    \"cowboy-hat\",\n",
    "    \"crab-101\",\n",
    "    \"desk-globe\",\n",
    "    \"diamond-ring\",\n",
    "    \"dice\",\n",
    "    \"dog\",\n",
    "    \"dolphin-101\",\n",
    "    \"doorknob\",\n",
    "    \"drinking-straw\",\n",
    "    \"duck\",\n",
    "    \"dumb-bell\",\n",
    "    \"eiffel-tower\",\n",
    "    \"electric-guitar-101\",\n",
    "    \"elephant-101\",\n",
    "    \"elk\",\n",
    "    \"ewer-101\",\n",
    "    \"eyeglasses\",\n",
    "    \"fern\",\n",
    "    \"fighter-jet\",\n",
    "    \"fire-extinguisher\",\n",
    "    \"fire-hydrant\",\n",
    "    \"fire-truck\",\n",
    "    \"fireworks\",\n",
    "    \"flashlight\",\n",
    "    \"floppy-disk\",\n",
    "    \"football-helmet\",\n",
    "    \"french-horn\",\n",
    "    \"fried-egg\",\n",
    "    \"frisbee\",\n",
    "    \"frog\",\n",
    "    \"frying-pan\",\n",
    "    \"galaxy\",\n",
    "    \"gas-pump\",\n",
    "    \"giraffe\",\n",
    "    \"goat\",\n",
    "    \"golden-gate-bridge\",\n",
    "    \"goldfish\",\n",
    "    \"golf-ball\",\n",
    "    \"goose\",\n",
    "    \"gorilla\",\n",
    "    \"grand-piano-101\",\n",
    "    \"grapes\",\n",
    "    \"grasshopper\",\n",
    "    \"guitar-pick\",\n",
    "    \"hamburger\",\n",
    "    \"hammock\",\n",
    "    \"harmonica\",\n",
    "    \"harp\",\n",
    "    \"harpsichord\",\n",
    "    \"hawksbill-101\",\n",
    "    \"head-phones\",\n",
    "    \"helicopter-101\",\n",
    "    \"hibiscus\",\n",
    "    \"homer-simpson\",\n",
    "    \"horse\",\n",
    "    \"horseshoe-crab\",\n",
    "    \"hot-air-balloon\",\n",
    "    \"hot-dog\",\n",
    "    \"hot-tub\",\n",
    "    \"hourglass\",\n",
    "    \"house-fly\",\n",
    "    \"human-skeleton\",\n",
    "    \"hummingbird\",\n",
    "    \"ibis-101\",\n",
    "    \"ice-cream-cone\",\n",
    "    \"iguana\",\n",
    "    \"ipod\",\n",
    "    \"iris\",\n",
    "    \"jesus-christ\",\n",
    "    \"joy-stick\",\n",
    "    \"kangaroo-101\",\n",
    "    \"kayak\",\n",
    "    \"ketch-101\",\n",
    "    \"killer-whale\",\n",
    "    \"knife\",\n",
    "    \"ladder\",\n",
    "    \"laptop-101\",\n",
    "    \"lathe\",\n",
    "    \"leopards-101\",\n",
    "    \"license-plate\",\n",
    "    \"lightbulb\",\n",
    "    \"light-house\",\n",
    "    \"lightning\",\n",
    "    \"llama-101\",\n",
    "    \"mailbox\",\n",
    "    \"mandolin\",\n",
    "    \"mars\",\n",
    "    \"mattress\",\n",
    "    \"megaphone\",\n",
    "    \"menorah-101\",\n",
    "    \"microscope\",\n",
    "    \"microwave\",\n",
    "    \"minaret\",\n",
    "    \"minotaur\",\n",
    "    \"motorbikes-101\",\n",
    "    \"mountain-bike\",\n",
    "    \"mushroom\",\n",
    "    \"mussels\",\n",
    "    \"necktie\",\n",
    "    \"octopus\",\n",
    "    \"ostrich\",\n",
    "    \"owl\",\n",
    "    \"palm-pilot\",\n",
    "    \"palm-tree\",\n",
    "    \"paperclip\",\n",
    "    \"paper-shredder\",\n",
    "    \"pci-card\",\n",
    "    \"penguin\",\n",
    "    \"people\",\n",
    "    \"pez-dispenser\",\n",
    "    \"photocopier\",\n",
    "    \"picnic-table\",\n",
    "    \"playing-card\",\n",
    "    \"porcupine\",\n",
    "    \"pram\",\n",
    "    \"praying-mantis\",\n",
    "    \"pyramid\",\n",
    "    \"raccoon\",\n",
    "    \"radio-telescope\",\n",
    "    \"rainbow\",\n",
    "    \"refrigerator\",\n",
    "    \"revolver-101\",\n",
    "    \"rifle\",\n",
    "    \"rotary-phone\",\n",
    "    \"roulette-wheel\",\n",
    "    \"saddle\",\n",
    "    \"saturn\",\n",
    "    \"school-bus\",\n",
    "    \"scorpion-101\",\n",
    "    \"screwdriver\",\n",
    "    \"segway\",\n",
    "    \"self-propelled-lawn-mower\",\n",
    "    \"sextant\",\n",
    "    \"sheet-music\",\n",
    "    \"skateboard\",\n",
    "    \"skunk\",\n",
    "    \"skyscraper\",\n",
    "    \"smokestack\",\n",
    "    \"snail\",\n",
    "    \"snake\",\n",
    "    \"sneaker\",\n",
    "    \"snowmobile\",\n",
    "    \"soccer-ball\",\n",
    "    \"socks\",\n",
    "    \"soda-can\",\n",
    "    \"spaghetti\",\n",
    "    \"speed-boat\",\n",
    "    \"spider\",\n",
    "    \"spoon\",\n",
    "    \"stained-glass\",\n",
    "    \"starfish-101\",\n",
    "    \"steering-wheel\",\n",
    "    \"stirrups\",\n",
    "    \"sunflower-101\",\n",
    "    \"superman\",\n",
    "    \"sushi\",\n",
    "    \"swan\",\n",
    "    \"swiss-army-knife\",\n",
    "    \"sword\",\n",
    "    \"syringe\",\n",
    "    \"tambourine\",\n",
    "    \"teapot\",\n",
    "    \"teddy-bear\",\n",
    "    \"teepee\",\n",
    "    \"telephone-box\",\n",
    "    \"tennis-ball\",\n",
    "    \"tennis-court\",\n",
    "    \"tennis-racket\",\n",
    "    \"theodolite\",\n",
    "    \"toaster\",\n",
    "    \"tomato\",\n",
    "    \"tombstone\",\n",
    "    \"top-hat\",\n",
    "    \"touring-bike\",\n",
    "    \"tower-pisa\",\n",
    "    \"traffic-light\",\n",
    "    \"treadmill\",\n",
    "    \"triceratops\",\n",
    "    \"tricycle\",\n",
    "    \"trilobite-101\",\n",
    "    \"tripod\",\n",
    "    \"t-shirt\",\n",
    "    \"tuning-fork\",\n",
    "    \"tweezer\",\n",
    "    \"umbrella-101\",\n",
    "    \"unicorn\",\n",
    "    \"vcr\",\n",
    "    \"video-projector\",\n",
    "    \"washing-machine\",\n",
    "    \"watch-101\",\n",
    "    \"waterfall\",\n",
    "    \"watermelon\",\n",
    "    \"welding-mask\",\n",
    "    \"wheelbarrow\",\n",
    "    \"windmill\",\n",
    "    \"wine-bottle\",\n",
    "    \"xylophone\",\n",
    "    \"yarmulke\",\n",
    "    \"yo-yo\",\n",
    "    \"zebra\",\n",
    "    \"airplanes-101\",\n",
    "    \"car-side-101\",\n",
    "    \"faces-easy-101\",\n",
    "    \"greyhound\",\n",
    "    \"tennis-shoes\",\n",
    "    \"toad\",\n",
    "    \"clutter\",\n",
    "]\n"
   ]
  },
  {
   "cell_type": "code",
   "execution_count": 76,
   "metadata": {},
   "outputs": [
    {
     "name": "stdout",
     "output_type": "stream",
     "text": [
      "probability=0.011928, class=conch\n",
      "probability=0.011278, class=spoon\n",
      "probability=0.011223, class=hot-dog\n",
      "probability=0.010507, class=bathtub\n",
      "probability=0.010196, class=ostrich\n"
     ]
    },
    {
     "data": {
      "image/png": "[encoded data removed]",
      "text/plain": [
       "<Figure size 432x288 with 1 Axes>"
      ]
     },
     "metadata": {
      "needs_background": "light"
     },
     "output_type": "display_data"
    }
   ],
   "source": [
    "predict('test.jpg', object_categories )"
   ]
  },
  {
   "cell_type": "code",
   "execution_count": null,
   "metadata": {},
   "outputs": [],
   "source": []
  }
 ],
 "metadata": {
  "instance_type": "ml.t3.medium",
  "kernelspec": {
   "display_name": "Python 3 (Data Science)",
   "language": "python",
   "name": "python3__SAGEMAKER_INTERNAL__arn:aws:sagemaker:us-east-1:081325390199:image/datascience-1.0"
  },
  "language_info": {
   "codemirror_mode": {
    "name": "ipython",
    "version": 3
   },
   "file_extension": ".py",
   "mimetype": "text/x-python",
   "name": "python",
   "nbconvert_exporter": "python",
   "pygments_lexer": "ipython3",
   "version": "3.7.10"
  },
  "notice": "Copyright 2018 Amazon.com, Inc. or its affiliates. All Rights Reserved.  Licensed under the Apache License, Version 2.0 (the \"License\"). You may not use this file except in compliance with the License. A copy of the License is located at http://aws.amazon.com/apache2.0/ or in the \"license\" file accompanying this file. This file is distributed on an \"AS IS\" BASIS, WITHOUT WARRANTIES OR CONDITIONS OF ANY KIND, either express or implied. See the License for the specific language governing permissions and limitations under the License."
 },
 "nbformat": 4,
 "nbformat_minor": 4
}
