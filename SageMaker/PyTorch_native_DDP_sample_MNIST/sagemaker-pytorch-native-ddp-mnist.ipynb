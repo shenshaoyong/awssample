{
 "cells": [
  {
   "cell_type": "markdown",
   "metadata": {},
   "source": [
    "# Amazon SageMaker Workshop - PyTroch Native DDP - MNIST"
   ]
  },
  {
   "cell_type": "markdown",
   "metadata": {},
   "source": [
    "## Contents\n",
    "\n",
    "1. [目标](#目标)\n",
    "1. [数据准备](#数据准备)\n",
    "1. [高性能存储FSx For Lustre](#高性能存储)\n",
    "1. [分布式训练](#分布式训练)\n",
    "1. [部署](#部署)\n",
    "1. [推理](#推理)\n",
    "---\n",
    "\n",
    "## 目标\n",
    "\n",
    "本实验主要帮助用户快速掌握Amazon SageMaker 使用PyTorch DDP做分布式训练，及部署可扩展环境和推理，并帮助用户快速掌握在训练过程中使用FSx for Lustre进行存储加速。\n",
    "\n",
    "注意：仅支持 单机单卡 / 单机多卡 / 多机多卡 场景\n",
    "\n",
    "---\n"
   ]
  },
  {
   "cell_type": "markdown",
   "metadata": {},
   "source": [
    "## 数据准备\n",
    "\n",
    "～2分钟"
   ]
  },
  {
   "cell_type": "code",
   "execution_count": null,
   "metadata": {},
   "outputs": [],
   "source": [
    "!pip install boto3==\"1.23.10\" sagemaker==\"2.104.0\"\n",
    "!pip3 install torch==1.4.0 torchvision==0.5.0 -f https://download.pytorch.org/whl/cu101/torch_stable.html\n",
    "\n",
    "#please restart kernel"
   ]
  },
  {
   "cell_type": "code",
   "execution_count": null,
   "metadata": {},
   "outputs": [],
   "source": [
    "#Sagemaker basic setting\n",
    "import sagemaker\n",
    "import time\n",
    "from datetime import datetime\n",
    "import torch\n",
    "import boto3\n",
    "sagemaker_session = sagemaker.Session()\n",
    "\n",
    "bucket = sagemaker_session.default_bucket()\n",
    "prefix = 'dji'\n",
    "\n",
    "role = sagemaker.get_execution_role()\n",
    "print(\"torch.__version__:{}\".format(torch.__version__))\n",
    "print(\"boto3.__version__:{}\".format(boto3.__version__))\n",
    "print(\"sagemaker.__version__:{}\".format(sagemaker.__version__))\n",
    "print(\"bucket:{}\".format(bucket))\n",
    "print(\"role:{}\".format(role))"
   ]
  },
  {
   "cell_type": "code",
   "execution_count": null,
   "metadata": {},
   "outputs": [],
   "source": [
    "#download from pytorch 直接使用提供的data.tar.gz文件\n",
    "from torchvision import datasets, transforms\n",
    "\n",
    "datasets.MNIST('data', download=True, transform=transforms.Compose([\n",
    "    transforms.ToTensor(),\n",
    "    transforms.Normalize((0.1307,), (0.3081,))\n",
    "]))\n"
   ]
  },
  {
   "cell_type": "code",
   "execution_count": null,
   "metadata": {},
   "outputs": [],
   "source": [
    "# Uploading the data to S3\n",
    "inputs = sagemaker_session.upload_data(path='data', bucket=bucket, key_prefix=prefix)\n",
    "print('input spec (in this case, just an S3 path): {}'.format(inputs))\n"
   ]
  },
  {
   "cell_type": "markdown",
   "metadata": {},
   "source": [
    "# 高性能存储\n",
    "\n",
    "～18分钟"
   ]
  },
  {
   "cell_type": "code",
   "execution_count": null,
   "metadata": {},
   "outputs": [],
   "source": [
    "#get default vpc_id and one subnet_id\n",
    "import boto3\n",
    "\n",
    "client = boto3.client('ec2')\n",
    "\n",
    "response = client.describe_vpcs(\n",
    "    Filters=[\n",
    "        {\n",
    "            'Name': 'is-default',\n",
    "            'Values': [\n",
    "                'true',\n",
    "            ]\n",
    "        },\n",
    "    ],\n",
    "    MaxResults=5\n",
    ")\n",
    "\n",
    "vpc_id = response['Vpcs'][0]['VpcId']\n",
    "\n",
    "response = client.describe_subnets(\n",
    "    Filters=[\n",
    "        {\n",
    "            'Name': 'vpc-id',\n",
    "            'Values': [\n",
    "                vpc_id,\n",
    "            ]\n",
    "        },\n",
    "        {\n",
    "            'Name': 'availability-zone',\n",
    "            'Values': [\n",
    "                'us-east-1b',\n",
    "            ]\n",
    "        },\n",
    "    ],\n",
    "    MaxResults=10\n",
    ")\n",
    "\n",
    "subnet_id = response['Subnets'][0]['SubnetId']\n",
    "\n",
    "response = client.describe_subnets(\n",
    "    Filters=[\n",
    "        {\n",
    "            'Name': 'vpc-id',\n",
    "            'Values': [\n",
    "                vpc_id,\n",
    "            ]\n",
    "        },\n",
    "    ],\n",
    "    MaxResults=10\n",
    ")\n",
    "subnet_ids = []\n",
    "\n",
    "for subnet in response['Subnets']:\n",
    "    subnet_ids.append(subnet['SubnetId'])\n",
    "    \n",
    "print(\"vpc_id:{} ; subnet_id: {}; subnet_ids: {} \".format(vpc_id,subnet_id,subnet_ids))"
   ]
  },
  {
   "cell_type": "code",
   "execution_count": null,
   "metadata": {},
   "outputs": [],
   "source": [
    "#create or check security group\n",
    "response = {}\n",
    "security_group_id = ''\n",
    "try:\n",
    "    response = client.describe_security_groups(\n",
    "        GroupNames=[\n",
    "            'fsx-dji',\n",
    "        ],\n",
    "    )\n",
    "    security_group_id = response['SecurityGroups'][0]['GroupId']\n",
    "    print(\"security_group_id:{} \".format(security_group_id))\n",
    "except:\n",
    "    response = client.create_security_group(\n",
    "        GroupName='fsx-dji',\n",
    "        VpcId=vpc_id,\n",
    "        Description='fsx security_group'\n",
    "    )\n",
    "    security_group_id = response['GroupId']\n",
    "    print(\"new security_group_id:{} \".format(security_group_id))\n",
    "\n",
    "    data = client.authorize_security_group_ingress(\n",
    "        GroupId=security_group_id,\n",
    "        IpPermissions=[\n",
    "            {'IpProtocol': 'tcp',\n",
    "             'FromPort': 1,\n",
    "             'ToPort': 65535,\n",
    "             'IpRanges': [{'CidrIp': '0.0.0.0/0'}]}\n",
    "        ])\n",
    "    print('Ingress Successfully Set %s' % data)  \n",
    "\n"
   ]
  },
  {
   "cell_type": "code",
   "execution_count": null,
   "metadata": {},
   "outputs": [],
   "source": [
    "# Create vpc endpoint s3 gateway \n",
    "response = client.describe_route_tables(\n",
    "    Filters=[\n",
    "        {\n",
    "            'Name': 'vpc-id',\n",
    "            'Values': [\n",
    "                vpc_id,\n",
    "            ]\n",
    "        },\n",
    "    ],\n",
    "    MaxResults=5\n",
    ")\n",
    "RouteTableId = response['RouteTables'][0]['RouteTableId']\n",
    "print('RouteTableId : {}'.format(RouteTableId))\n",
    "\n",
    "response = client.create_vpc_endpoint(\n",
    "    VpcEndpointType='Gateway',\n",
    "    VpcId=vpc_id,\n",
    "    ServiceName='com.amazonaws.us-east-1.s3',\n",
    "    RouteTableIds=[\n",
    "        RouteTableId,\n",
    "    ]\n",
    ")\n",
    "print('Create vpc endpoint s3 gateway successfully! ')"
   ]
  },
  {
   "cell_type": "code",
   "execution_count": null,
   "metadata": {},
   "outputs": [],
   "source": [
    "#create FSx create_file_system\n",
    "import boto3\n",
    "\n",
    "client = boto3.client('fsx')\n",
    "response = client.create_file_system(\n",
    "    FileSystemType='LUSTRE',\n",
    "    StorageCapacity=1200,\n",
    "    StorageType='SSD',\n",
    "    SubnetIds=[\n",
    "        subnet_id,\n",
    "    ],\n",
    "    SecurityGroupIds=[\n",
    "        security_group_id,\n",
    "    ],\n",
    "    LustreConfiguration={\n",
    "        'DeploymentType': 'PERSISTENT_2',\n",
    "        #'ImportPath': 's3://{}/mnist'.format(bucket),\n",
    "        'PerUnitStorageThroughput': 250,\n",
    "        #'AutomaticBackupRetentionDays': 0,\n",
    "    }\n",
    "    \n",
    ")\n",
    "\n",
    "FileSystemId=response['FileSystem']['FileSystemId']\n",
    "\n",
    "#MountName=response['FileSystem']['MountName']\n",
    "print('FileSystemId: {}  '.format(FileSystemId))"
   ]
  },
  {
   "cell_type": "code",
   "execution_count": null,
   "metadata": {},
   "outputs": [],
   "source": [
    "#create_data_repository_association \n",
    "response = client.create_data_repository_association(\n",
    "    FileSystemId=FileSystemId,\n",
    "    FileSystemPath='/dji',\n",
    "    DataRepositoryPath='s3://{}/dji'.format(bucket),\n",
    "    BatchImportMetaDataOnCreate=True,\n",
    "    S3={\n",
    "        'AutoImportPolicy': {\n",
    "            'Events': [\n",
    "                'NEW','CHANGED','DELETED',\n",
    "            ]\n",
    "        },\n",
    "    },\n",
    ")\n",
    "\n",
    "AssociationId = response['Association']['AssociationId']"
   ]
  },
  {
   "cell_type": "code",
   "execution_count": null,
   "metadata": {},
   "outputs": [],
   "source": [
    "%%time\n",
    "#check fsx/association is ready\n",
    "MountName = ''\n",
    "#AssociationId = 'dra-08e0b7db42944abc8'\n",
    "while True:\n",
    "    response = client.describe_file_systems(\n",
    "        FileSystemIds=[\n",
    "            FileSystemId,\n",
    "        ],\n",
    "        MaxResults=5\n",
    "    ),\n",
    "    print('FileSystem status is {}'.format(response[0]['FileSystems'][0]['Lifecycle']))\n",
    "    if response[0]['FileSystems'][0]['Lifecycle']=='AVAILABLE':\n",
    "        MountName=response[0]['FileSystems'][0]['LustreConfiguration']['MountName']\n",
    "        break\n",
    "    time.sleep(60)\n",
    "    \n",
    "\n",
    "print('FileSystemId: {} , MountName: {} '.format(FileSystemId,MountName))\n",
    "while True:\n",
    "    response = client.describe_data_repository_associations(\n",
    "        AssociationIds=[\n",
    "            AssociationId,\n",
    "        ],\n",
    "        MaxResults=5\n",
    "    )\n",
    "    print('Data_repository_associations status is {}'.format(response['Associations'][0]['Lifecycle']))\n",
    "    if response['Associations'][0]['Lifecycle']=='AVAILABLE':\n",
    "        break\n",
    "    time.sleep(60)\n",
    "\n"
   ]
  },
  {
   "cell_type": "code",
   "execution_count": null,
   "metadata": {},
   "outputs": [],
   "source": [
    "%%time\n",
    "# check describe_data_repository_tasks\n",
    "while True:\n",
    "    response = client.describe_data_repository_tasks(\n",
    "        MaxResults=5\n",
    "    )\n",
    "    print('data_repository_tasks status is {}'.format(response['DataRepositoryTasks'][0]['Lifecycle']))\n",
    "    if response['DataRepositoryTasks'][0]['Lifecycle']=='SUCCEEDED':\n",
    "        break\n",
    "    time.sleep(60)\n",
    "    "
   ]
  },
  {
   "cell_type": "code",
   "execution_count": null,
   "metadata": {},
   "outputs": [],
   "source": [
    "print('Data is ready, the training job can be started!')"
   ]
  },
  {
   "cell_type": "markdown",
   "metadata": {},
   "source": [
    "## 分布式训练\n",
    "\n",
    "～10分钟"
   ]
  },
  {
   "cell_type": "code",
   "execution_count": null,
   "metadata": {},
   "outputs": [],
   "source": [
    "vpc_id='vpc-06a89deaa85410c41'\n",
    "subnet_id='subnet-0c510fde0aaf2d2b4'\n",
    "subnet_ids= ['subnet-040931094ccbb99ab', 'subnet-0c510fde0aaf2d2b4', 'subnet-0778ab9cab7ae8679', 'subnet-09044a012cf45536e', 'subnet-06a5e6659440bcc9a', 'subnet-0129c8b3f02da025a'] \n",
    "security_group_id='sg-0f04c56bf9daf8d50'\n",
    "FileSystemId='fs-07af543dc6e864140'\n",
    "MountName = 'qkibbbev' "
   ]
  },
  {
   "cell_type": "code",
   "execution_count": null,
   "metadata": {},
   "outputs": [],
   "source": [
    "!pygmentize mnist-ddp.py"
   ]
  },
  {
   "cell_type": "code",
   "execution_count": null,
   "metadata": {},
   "outputs": [],
   "source": [
    "# vpc_id = 'vpc-74bd990d'\n",
    "# subnet_ids = ['subnet-03f6a221252c4e388', 'subnet-02071bfe4f24324cb', 'subnet-0a58f474d1bc358b0', 'subnet-0abd567068550fd73', 'subnet-00c5e11db0c2f4a09', 'subnet-0b47b661ec76273ca', 'subnet-03fc2c059d01d5487', 'subnet-0cc9c3f03f6c07b47', 'subnet-384dcd5c']  \n",
    "\n",
    "# security_group_id = 'sg-0b89fbfb4f4e483b0'\n",
    "\n",
    "# FileSystemId = 'fs-0ada02c1767ce8aa3' \n",
    "# MountName = 'ozgrpbev' "
   ]
  },
  {
   "cell_type": "code",
   "execution_count": null,
   "metadata": {},
   "outputs": [],
   "source": [
    "#configure fsx fileinput\n",
    "from sagemaker.inputs import FileSystemInput,TrainingInput\n",
    "\n",
    "#standard dataset\n",
    "dataset_directory_path =  \"/{}/dji\".format(MountName)  \n",
    "file_system_access_mode = \"rw\"\n",
    "file_system_type = \"FSxLustre\"\n",
    "dataset_fsx = FileSystemInput(\n",
    "    file_system_id=FileSystemId,\n",
    "    file_system_type=file_system_type,\n",
    "    directory_path=dataset_directory_path,\n",
    "    file_system_access_mode=file_system_access_mode,\n",
    ")\n",
    "#print(dataset_fsx)"
   ]
  },
  {
   "cell_type": "code",
   "execution_count": null,
   "metadata": {},
   "outputs": [],
   "source": [
    "#update training script file\n",
    "with open('mnist-ddp.py', 'r') as file:\n",
    "    # read a list of lines into data\n",
    "    data = file.readlines()\n",
    "\n",
    "# now change the 2nd line, note that you have to add a newline\n",
    "data[70] = '    is_distributed = (args.num_gpus > 0 and args.backend is not None) or len(args.hosts) > 1\\n'\n",
    "\n",
    "# and write everything back\n",
    "with open('mnist-ddp.py', 'w') as file:\n",
    "    file.writelines( data )"
   ]
  },
  {
   "cell_type": "code",
   "execution_count": null,
   "metadata": {},
   "outputs": [],
   "source": [
    "# Run training in SageMaker\n",
    "from sagemaker.pytorch import PyTorch\n",
    "\n",
    "estimator = PyTorch(entry_point='mnist-ddp.py',\n",
    "                    role=role,\n",
    "                    framework_version='1.5.0',\n",
    "                    py_version='py3',\n",
    "                    instance_count=1,\n",
    "                    instance_type='ml.p3.2xlarge',\n",
    "                    subnets=subnet_ids,\n",
    "                    security_group_ids=[security_group_id],\n",
    "                    file_system_id = FileSystemId,\n",
    "                    hyperparameters={\n",
    "                        'epochs': 6,\n",
    "                        'backend': 'nccl'\n",
    "                    },\n",
    "                    disable_profiler=True, # Reduce number of logs since we don't need profiler or debugger for this training\n",
    "                    debugger_hook_config=False,)"
   ]
  },
  {
   "cell_type": "code",
   "execution_count": null,
   "metadata": {},
   "outputs": [],
   "source": [
    "%%time\n",
    "# start training\n",
    "job_name = \"dji-{}\".format(datetime.now().strftime(\"%Y-%m-%d-%H-%M-%S\"))\n",
    "estimator.fit(inputs={'training': dataset_fsx},job_name =job_name)"
   ]
  },
  {
   "cell_type": "markdown",
   "metadata": {},
   "source": [
    "## 部署\n",
    "～3分钟"
   ]
  },
  {
   "cell_type": "code",
   "execution_count": null,
   "metadata": {},
   "outputs": [],
   "source": [
    "%%time\n",
    "# start deployment without autoscaling\n",
    "predictor = estimator.deploy(initial_instance_count=1, instance_type='ml.m5.2xlarge')"
   ]
  },
  {
   "cell_type": "code",
   "execution_count": null,
   "metadata": {},
   "outputs": [],
   "source": [
    "print(predictor.endpoint_name)"
   ]
  },
  {
   "cell_type": "markdown",
   "metadata": {},
   "source": [
    "## 推理\n"
   ]
  },
  {
   "cell_type": "code",
   "execution_count": null,
   "metadata": {},
   "outputs": [],
   "source": [
    "from IPython.display import HTML\n",
    "HTML(open(\"input.html\").read())"
   ]
  },
  {
   "cell_type": "code",
   "execution_count": null,
   "metadata": {},
   "outputs": [],
   "source": [
    "import pandas as pd\n",
    "import numpy as np\n",
    "\n",
    "image = np.array([data], dtype=np.float32)\n",
    "response = predictor.predict(image)\n",
    "prediction = response.argmax(axis=1)[0]\n",
    "print(prediction)"
   ]
  },
  {
   "cell_type": "markdown",
   "metadata": {},
   "source": [
    "## ONLY for existed endpoint, create new Predictor"
   ]
  },
  {
   "cell_type": "code",
   "execution_count": null,
   "metadata": {},
   "outputs": [],
   "source": [
    "from sagemaker.predictor import Predictor\n",
    "#predictor = Predictor()\n",
    "from sagemaker.serializers import NumpySerializer\n",
    "from sagemaker.deserializers import NumpyDeserializer\n",
    "#import sagemaker.serializers.\n",
    "###\n",
    "#'please change to your endpoint_name'\n",
    "###\n",
    "endpoint_name = 'pytorch-training-2022-08-19-17-20-36-703'\n",
    "predictor = Predictor(\n",
    "    endpoint_name=endpoint_name,\n",
    "    serializer=NumpySerializer(),\n",
    "    deserializer=NumpyDeserializer(),\n",
    ")\n"
   ]
  },
  {
   "cell_type": "code",
   "execution_count": null,
   "metadata": {},
   "outputs": [],
   "source": [
    "import numpy as np\n",
    "image = np.array([data], dtype=np.float32)\n",
    "response = predictor.predict(image)\n",
    "prediction = response.argmax(axis=1)[0]\n",
    "print(prediction)"
   ]
  },
  {
   "cell_type": "markdown",
   "metadata": {},
   "source": [
    "### Cleanup\n",
    "\n",
    "After you have finished with this example, remember to delete the prediction endpoint to release the instance(s) associated with it"
   ]
  },
  {
   "cell_type": "code",
   "execution_count": null,
   "metadata": {},
   "outputs": [],
   "source": [
    "#if you want to delete endpoint, please umcomment the line as below\n",
    "#estimator.delete_endpoint()  "
   ]
  }
 ],
 "metadata": {
  "hide_input": false,
  "instance_type": "ml.t3.medium",
  "kernelspec": {
   "display_name": "Python 3",
   "language": "python",
   "name": "python3"
  },
  "language_info": {
   "codemirror_mode": {
    "name": "ipython",
    "version": 3
   },
   "file_extension": ".py",
   "mimetype": "text/x-python",
   "name": "python",
   "nbconvert_exporter": "python",
   "pygments_lexer": "ipython3",
   "version": "3.8.8"
  },
  "nbTranslate": {
   "displayLangs": [
    "*"
   ],
   "hotkey": "alt-t",
   "langInMainMenu": true,
   "sourceLang": "en",
   "targetLang": "fr",
   "useGoogleTranslate": true
  },
  "notice": "Copyright 2018 Amazon.com, Inc. or its affiliates. All Rights Reserved.  Licensed under the Apache License, Version 2.0 (the \"License\"). You may not use this file except in compliance with the License. A copy of the License is located at http://aws.amazon.com/apache2.0/ or in the \"license\" file accompanying this file. This file is distributed on an \"AS IS\" BASIS, WITHOUT WARRANTIES OR CONDITIONS OF ANY KIND, either express or implied. See the License for the specific language governing permissions and limitations under the License.",
  "toc": {
   "base_numbering": 1,
   "nav_menu": {},
   "number_sections": true,
   "sideBar": true,
   "skip_h1_title": false,
   "title_cell": "Table of Contents",
   "title_sidebar": "Contents",
   "toc_cell": false,
   "toc_position": {},
   "toc_section_display": true,
   "toc_window_display": false
  },
  "varInspector": {
   "cols": {
    "lenName": 16,
    "lenType": 16,
    "lenVar": 40
   },
   "kernels_config": {
    "python": {
     "delete_cmd_postfix": "",
     "delete_cmd_prefix": "del ",
     "library": "var_list.py",
     "varRefreshCmd": "print(var_dic_list())"
    },
    "r": {
     "delete_cmd_postfix": ") ",
     "delete_cmd_prefix": "rm(",
     "library": "var_list.r",
     "varRefreshCmd": "cat(var_dic_list()) "
    }
   },
   "types_to_exclude": [
    "module",
    "function",
    "builtin_function_or_method",
    "instance",
    "_Feature"
   ],
   "window_display": false
  }
 },
 "nbformat": 4,
 "nbformat_minor": 4
}
